{
  "cells": [
    {
      "cell_type": "markdown",
      "metadata": {
        "id": "view-in-github",
        "colab_type": "text"
      },
      "source": [
        "<a href=\"https://colab.research.google.com/github/Tharungovind/GOVINDTHARUN_INFO5731_FALL2024/blob/main/Govind_Tharun_Exersice_03.ipynb\" target=\"_parent\"><img src=\"https://colab.research.google.com/assets/colab-badge.svg\" alt=\"Open In Colab\"/></a>"
      ]
    },
    {
      "cell_type": "markdown",
      "metadata": {
        "id": "VdRwkJBn70nX"
      },
      "source": [
        "# **INFO5731 In-class Exercise 3**\n",
        "\n",
        "The purpose of this exercise is to explore various aspects of text analysis, including feature extraction, feature selection, and text similarity ranking.\n",
        "\n",
        "**Expectations**:\n",
        "*   Use the provided .*ipynb* document to write your code & respond to the questions. Avoid generating a new file.\n",
        "*   Write complete answers and run all the cells before submission.\n",
        "*   Make sure the submission is \"clean\"; *i.e.*, no unnecessary code cells.\n",
        "*   Once finished, allow shared rights from top right corner (*see Canvas for details*).\n",
        "\n",
        "**Total points**: 40\n",
        "\n",
        "**Deadline**: This in-class exercise is due at the end of Friday, at 11:59 PM.\n",
        "\n",
        "**Late submissions will have a penalty of 10% of the marks for each day of late submission. , and no requests will be answered. Manage your time accordingly.**\n",
        "\n",
        "**Please check that the link you submitted can be opened and points to the correct assignment.**"
      ]
    },
    {
      "cell_type": "markdown",
      "metadata": {
        "id": "ARqm7u6B70ne"
      },
      "source": [
        "## Question 1 (10 Points)\n",
        "Describe an interesting **text classification or text mining task** and explain what kind of features might be useful for you to build the machine learning model. List your features and explain why these features might be helpful. You need to list at least five different types of features. **Your dataset must be text.**"
      ]
    },
    {
      "cell_type": "code",
      "execution_count": null,
      "metadata": {
        "id": "VAZj4PHB70nf"
      },
      "outputs": [],
      "source": [
        "# Your answer here (no code for this question, write down your answer as detail as possible for the above questions):\n",
        "\n",
        "'''\n",
        "Please write you answer here:\n",
        "\n",
        "While building a machine learning model , selection of features is important for getting good performance. Some of the usefultypes of features are Numerical, categorial, textual, time and statistical features.\n",
        "\n",
        "List of Features\n",
        "1) Bag of Words-The representation of the text data that counts the frequency of each word in the data regardless grammer.\n",
        "2) Term Frequency-Inverse Document Frequency-A statistical analysis that evaluates importance of word in data or document relative to its frequency\n",
        "3) Entity features- Entities such as names, locations & dates extracted from data or text\n",
        "4) Sentiment Features- That calculates sentimate scores(positive, negative) from the text useful in sentiment analysis tasks\n",
        "5) Parts of Speech Tags-That indicates whether a word is noun, verb, adjective etc, these can serve as features\n",
        "\n",
        "\n",
        "Data Set\n",
        "['The product is good', 'Delivery was too late', 'Good package and delivery']\n",
        "\n",
        "\n",
        "'''"
      ]
    },
    {
      "cell_type": "markdown",
      "metadata": {
        "id": "dEUjBE6C70nf"
      },
      "source": [
        "## Question 2 (10 Points)\n",
        "Write python code to extract these features you discussed above. You can collect a few sample text data for the feature extraction."
      ]
    },
    {
      "cell_type": "code",
      "execution_count": 13,
      "metadata": {
        "id": "EoQX5s4O70nf",
        "colab": {
          "base_uri": "https://localhost:8080/"
        },
        "outputId": "5ef50dcf-48fe-4ce7-f94f-c9db386f88fa"
      },
      "outputs": [
        {
          "output_type": "stream",
          "name": "stdout",
          "text": [
            "Bag of Words Representation:\n",
            "   and  delivery  good  is  late  packaging  product  the  too  was\n",
            "0    0         0     1   1     0          0        1    1    0    0\n",
            "1    0         1     0   0     1          0        0    0    1    1\n",
            "2    1         1     1   0     0          1        0    0    0    0\n",
            "TF-IDF Representation:\n",
            "        and  delivery      good        is      late  packaging   product  \\\n",
            "0  0.000000  0.000000  0.402040  0.528635  0.000000   0.000000  0.528635   \n",
            "1  0.000000  0.402040  0.000000  0.000000  0.528635   0.000000  0.000000   \n",
            "2  0.562829  0.428046  0.428046  0.000000  0.000000   0.562829  0.000000   \n",
            "\n",
            "        the       too       was  \n",
            "0  0.528635  0.000000  0.000000  \n",
            "1  0.000000  0.528635  0.528635  \n",
            "2  0.000000  0.000000  0.000000  \n",
            "Sentiment Analysis:\n",
            "                           Text  Sentiment\n",
            "0           The product is Good        0.7\n",
            "1        Delivery was too late.       -0.3\n",
            "2  Good packaging and delivery.        0.7\n"
          ]
        }
      ],
      "source": [
        "# You code here (Please add comments in the code):\n",
        "\n",
        "import pandas as pd\n",
        "from textblob import TextBlob\n",
        "\n",
        "data = {\n",
        "    'Text': [\n",
        "        'The product is Good',\n",
        "        'Delivery was too late.',\n",
        "        'Good packaging and delivery.'\n",
        "    ],\n",
        "    'Label': ['Positive', 'Negative','Positive']\n",
        "}\n",
        "\n",
        "df = pd.DataFrame(data)\n",
        "\n",
        "from sklearn.feature_extraction.text import CountVectorizer, TfidfVectorizer\n",
        "\n",
        "bow_vectorizer = CountVectorizer()\n",
        "x_bow = bow_vectorizer.fit_transform(df['Text'])\n",
        "bow_df = pd.DataFrame(x_bow.toarray(), columns=bow_vectorizer.get_feature_names_out())\n",
        "\n",
        "print(\"Bag of Words Representation:\")\n",
        "print(bow_df)\n",
        "\n",
        "tfidf_vectorizer = TfidfVectorizer()\n",
        "x_tfidf = tfidf_vectorizer.fit_transform(df['Text'])\n",
        "tfidf_df = pd.DataFrame(x_tfidf.toarray(), columns=tfidf_vectorizer.get_feature_names_out())\n",
        "\n",
        "print(\"TF-IDF Representation:\")\n",
        "print(tfidf_df)\n",
        "\n",
        "df['Sentiment'] = df['Text'].apply(lambda text: TextBlob(text).sentiment.polarity)\n",
        "\n",
        "print(\"Sentiment Analysis:\")\n",
        "print(df[['Text', 'Sentiment']])"
      ]
    },
    {
      "cell_type": "markdown",
      "metadata": {
        "id": "7oSK4soH70nf"
      },
      "source": [
        "## Question 3 (10 points):\n",
        "Use any of the feature selection methods mentioned in this paper \"Deng, X., Li, Y., Weng, J., & Zhang, J. (2019). Feature selection for text classification: A review. Multimedia Tools & Applications, 78(3).\"\n",
        "\n",
        "Select the most important features you extracted above, rank the features based on their importance in the descending order."
      ]
    },
    {
      "cell_type": "code",
      "execution_count": 14,
      "metadata": {
        "id": "2CRuXfV570ng",
        "colab": {
          "base_uri": "https://localhost:8080/"
        },
        "outputId": "e30e5da9-8ade-42bb-dc17-cb918d138986"
      },
      "outputs": [
        {
          "output_type": "stream",
          "name": "stdout",
          "text": [
            "          feature  chi_rank\n",
            "0       affecting  0.907737\n",
            "8          global  0.907737\n",
            "10             is  0.907737\n",
            "3        becoming  0.733588\n",
            "17             to  0.733588\n",
            "18  unpredictable  0.733588\n",
            "11           more  0.733588\n",
            "6             due  0.733588\n",
            "7             far  0.695214\n",
            "9         impacts  0.695214\n",
            "1             and  0.695214\n",
            "12             of  0.695214\n",
            "14       profound  0.695214\n",
            "15       reaching  0.695214\n",
            "16            the  0.695214\n",
            "13       patterns  0.322607\n",
            "19        weather  0.322607\n",
            "2             are  0.272248\n",
            "4          change  0.009728\n",
            "5         climate  0.009728\n"
          ]
        }
      ],
      "source": [
        "# You code here (Please add comments in the code):\n",
        "import pandas as pd\n",
        "from sklearn.feature_extraction.text import TfidfVectorizer\n",
        "from sklearn.feature_selection import chi2\n",
        "from sklearn.preprocessing import LabelEncoder\n",
        "\n",
        "\n",
        "data = {\n",
        "    'text': [\"Climate change is affecting global weather patterns\", \"The impacts of climate change are profound and far-reaching\", \"Weather patterns are becoming more unpredictable due to climate change\"],\n",
        "    'label': ['text1', 'text2', 'text3']\n",
        "}\n",
        "df = pd.DataFrame(data)\n",
        "\n",
        "tfidf = TfidfVectorizer()\n",
        "x_tfidf = tfidf.fit_transform(df['text'])\n",
        "\n",
        "le = LabelEncoder()\n",
        "y = le.fit_transform(df['label'])\n",
        "\n",
        "\n",
        "chi2_values, p_values = chi2(x_tfidf, y)\n",
        "\n",
        "feature_name = tfidf.get_feature_names_out()\n",
        "chi2_df = pd.DataFrame({'feature': feature_name, 'chi_rank': chi2_values})\n",
        "\n",
        "ranked_feature = chi2_df.sort_values(by='chi_rank', ascending=False)\n",
        "\n",
        "print(ranked_feature)"
      ]
    },
    {
      "cell_type": "markdown",
      "metadata": {
        "id": "7nZGAOwl70ng"
      },
      "source": [
        "## Question 4 (10 points):\n",
        "Write python code to rank the text based on text similarity. Based on the text data you used for question 2, design a query to match the most relevant docments. Please use the BERT model to represent both your query and the text data, then calculate the cosine similarity between the query and each text in your data. Rank the similary with descending order."
      ]
    },
    {
      "cell_type": "code",
      "execution_count": 15,
      "metadata": {
        "id": "b4HoWK-i70ng",
        "colab": {
          "base_uri": "https://localhost:8080/"
        },
        "outputId": "b039023c-b26c-4bc5-dd13-782c8df5e613"
      },
      "outputs": [
        {
          "output_type": "stream",
          "name": "stderr",
          "text": [
            "/usr/local/lib/python3.10/dist-packages/transformers/tokenization_utils_base.py:1601: FutureWarning: `clean_up_tokenization_spaces` was not set. It will be set to `True` by default. This behavior will be depracted in transformers v4.45, and will be then set to `False` by default. For more details check this issue: https://github.com/huggingface/transformers/issues/31884\n",
            "  warnings.warn(\n"
          ]
        },
        {
          "output_type": "stream",
          "name": "stdout",
          "text": [
            "                           Text  similarity\n",
            "0           The product is good    1.000000\n",
            "1            Delivery was good.    0.909877\n",
            "2  Good packaging and delivery.    0.844542\n"
          ]
        }
      ],
      "source": [
        "# You code here (Please add comments in the code):\n",
        "\n",
        "import torch\n",
        "from transformers import BertTokenizer, BertModel\n",
        "from sklearn.metrics.pairwise import cosine_similarity\n",
        "\n",
        "data = {\n",
        "    'Text': [\n",
        "        'The product is good',\n",
        "        'Delivery was good.',\n",
        "        'Good packaging and delivery.'\n",
        "    ]\n",
        "}\n",
        "\n",
        "df = pd.DataFrame(data)\n",
        "\n",
        "tokenizer = BertTokenizer.from_pretrained('bert-base-uncased')\n",
        "model = BertModel.from_pretrained('bert-base-uncased')\n",
        "\n",
        "def bert_embedding(text):\n",
        "    inputs = tokenizer(text, return_tensors='pt', padding=True, truncation=True, max_length=512)\n",
        "    outputs = model(**inputs)\n",
        "\n",
        "    cls_embedding = outputs.last_hidden_state[:, 0, :].detach().numpy()\n",
        "    return cls_embedding\n",
        "\n",
        "query = \"The product is good\"\n",
        "query_embedding = bert_embedding(query)\n",
        "\n",
        "similarities = []\n",
        "\n",
        "for text in df['Text']:\n",
        "    text_embedding = bert_embedding(text)\n",
        "    similarity = cosine_similarity(query_embedding, text_embedding)[0][0]\n",
        "    similarities.append(similarity)\n",
        "\n",
        "df['similarity'] = similarities\n",
        "\n",
        "df_sorted = df.sort_values(by='similarity', ascending=False)\n",
        "\n",
        "print(df_sorted[['Text', 'similarity']])\n"
      ]
    },
    {
      "cell_type": "markdown",
      "source": [
        "# Mandatory Question"
      ],
      "metadata": {
        "id": "VEs-OoDEhTW4"
      }
    },
    {
      "cell_type": "markdown",
      "source": [
        "**Important: Reflective Feedback on this exercise**\n",
        "\n",
        "Please provide your thoughts and feedback on the exercises you completed in this assignment. Consider the following points in your response:\n",
        "\n",
        "Learning Experience: Describe your overall learning experience in working on extracting features from text data. What were the key concepts or techniques you found most beneficial in understanding the process?\n",
        "\n",
        "Challenges Encountered: Were there specific difficulties in completing this exercise?\n",
        "\n",
        "Relevance to Your Field of Study: How does this exercise relate to the field of NLP?\n",
        "\n",
        "**(Your submission will not be graded if this question is left unanswered)**\n",
        "\n"
      ],
      "metadata": {
        "id": "IUKC7suYhVl0"
      }
    },
    {
      "cell_type": "code",
      "source": [
        "# Your answer here (no code for this question, write down your answer as detail as possible for the above questions):\n",
        "\n",
        "'''\n",
        "Please write you answer here:\n",
        "\n",
        "Extraction of features from text data it was a intresting topic to learn i really enjoyed in learning and executing the code for this topic, though i got some challenges i referred to lectures and able to solve it\n",
        "\n",
        "\n",
        "In NLP text classification allows machine to understand and organize the textual data and moreover without text classification wont able to organize the unstructured text data\n",
        "\n",
        "\n",
        "\n",
        "\n",
        "'''"
      ],
      "metadata": {
        "id": "CAq0DZWAhU9m",
        "colab": {
          "base_uri": "https://localhost:8080/",
          "height": 70
        },
        "outputId": "f1db427a-4ad8-4870-b9b7-27348dc90707"
      },
      "execution_count": 12,
      "outputs": [
        {
          "output_type": "execute_result",
          "data": {
            "text/plain": [
              "'\\nPlease write you answer here:\\n\\nExtraction of features from text data it was a intresting topic to learn i really enjoyed in learning and executing the code for this topic, though i got some challenges i referred to lectures and able to solve it\\n\\n\\nIn NLP text classification allows machine to understand and organize the textual data and moreover without text classification wont able to organize the unstructured text data\\n\\n\\n\\n\\n'"
            ],
            "application/vnd.google.colaboratory.intrinsic+json": {
              "type": "string"
            }
          },
          "metadata": {},
          "execution_count": 12
        }
      ]
    }
  ],
  "metadata": {
    "kernelspec": {
      "display_name": "Python 3 (ipykernel)",
      "language": "python",
      "name": "python3"
    },
    "language_info": {
      "codemirror_mode": {
        "name": "ipython",
        "version": 3
      },
      "file_extension": ".py",
      "mimetype": "text/x-python",
      "name": "python",
      "nbconvert_exporter": "python",
      "pygments_lexer": "ipython3",
      "version": "3.9.12"
    },
    "colab": {
      "provenance": [],
      "include_colab_link": true
    }
  },
  "nbformat": 4,
  "nbformat_minor": 0
}