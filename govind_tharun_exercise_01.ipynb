{
  "cells": [
    {
      "cell_type": "markdown",
      "metadata": {
        "id": "view-in-github",
        "colab_type": "text"
      },
      "source": [
        "<a href=\"https://colab.research.google.com/github/Tharungovind/GOVINDTHARUN_INFO5731_FALL2024/blob/main/govind_tharun_exercise_01.ipynb\" target=\"_parent\"><img src=\"https://colab.research.google.com/assets/colab-badge.svg\" alt=\"Open In Colab\"/></a>"
      ]
    },
    {
      "cell_type": "markdown",
      "metadata": {
        "id": "DymRJbxDBCnf"
      },
      "source": [
        "# **INFO5731 Exercise 1**\n",
        "\n",
        "This exercise covers a variety of fundamental concepts in Python and is designed to help students improve their coding skills and problem-solving abilities.\n",
        "\n",
        "**Expectations**:\n",
        "*   Students are expected to complete the exercise during lecture period to meet the active participation criteria of the course.\n",
        "*   Use the provided .*ipynb* document to write your code & respond to the questions. Avoid generating a new file.\n",
        "*   Write complete answers and run all the cells before submission.\n",
        "*   Make sure the submission is \"clean\"; *i.e.*, no unnecessary code cells.\n",
        "*   Once finished, allow shared rights from top right corner (*see Canvas for details*).\n",
        "\n",
        "**Total points**: 40\n",
        "\n",
        "**Deadline**: This in-class exercise is due at the end of the day tomorrow, at 11:59 PM.\n",
        "\n",
        "**Late submissions cannot be considered, and no requests will be answered. Manage your time accordingly.**\n"
      ]
    },
    {
      "cell_type": "markdown",
      "source": [
        "## Question 1\n",
        "Write a Python program that  prompts the user to input the length and width of a rectangle, and then calculates and displays the area of the rectangle."
      ],
      "metadata": {
        "id": "FBKvD6O_TY6e"
      }
    },
    {
      "cell_type": "code",
      "source": [
        "# write your answer here\n",
        "l = input('enter length of rectangle: ')\n",
        "w = input('enter width of rectangle: ')\n",
        "area = float(l) * float(w)\n",
        "#display the area\n",
        "print('The area of rectangle is:', area)"
      ],
      "metadata": {
        "id": "cikVKDXdTbzE",
        "colab": {
          "base_uri": "https://localhost:8080/"
        },
        "outputId": "ad9ff560-5230-42b6-c198-9cfc80e184d6"
      },
      "execution_count": null,
      "outputs": [
        {
          "output_type": "stream",
          "name": "stdout",
          "text": [
            "enter length of rectangle: 3\n",
            "enter width of rectangle: 5\n",
            "The area of rectangle is: 15.0\n"
          ]
        }
      ]
    },
    {
      "cell_type": "markdown",
      "source": [
        "## Question 2\n",
        "Create a Python program that interactively takes two numerical inputs from the user and swaps their values without utilizing an extra variable."
      ],
      "metadata": {
        "id": "E9RqrlwdTfvl"
      }
    },
    {
      "cell_type": "code",
      "source": [
        "# write your answer here\n",
        "x = input('x: ')\n",
        "y = input('y: ')\n",
        "\n",
        "#swap of numbers\n",
        "x, y = y, x\n",
        "print('x:',x)\n",
        "print('y:',y)"
      ],
      "metadata": {
        "id": "4XvRknixTh1g",
        "colab": {
          "base_uri": "https://localhost:8080/"
        },
        "outputId": "bbe424a4-410f-41ff-ddc9-bdb3ffc875f4"
      },
      "execution_count": null,
      "outputs": [
        {
          "output_type": "stream",
          "name": "stdout",
          "text": [
            "x: 3\n",
            "y: 7\n",
            "x: 7\n",
            "y: 3\n"
          ]
        }
      ]
    },
    {
      "cell_type": "markdown",
      "metadata": {
        "id": "03jb4GZsBkBS"
      },
      "source": [
        "## Question 3\n",
        "Write a Python script to determine and print the length of a user-input string."
      ]
    },
    {
      "cell_type": "code",
      "execution_count": null,
      "metadata": {
        "id": "YaGLbSHHB8Ej",
        "colab": {
          "base_uri": "https://localhost:8080/"
        },
        "outputId": "57c13667-e0f7-4df1-eaa9-38f379e14f3e"
      },
      "outputs": [
        {
          "output_type": "stream",
          "name": "stdout",
          "text": [
            "enter string: hello world\n",
            "the length of the string is 11\n"
          ]
        }
      ],
      "source": [
        "# write your answer here\n",
        "x = input(\"enter string: \")\n",
        "print('the length of the string is', (len(x)))\n"
      ]
    },
    {
      "cell_type": "markdown",
      "metadata": {
        "id": "jJDe71iLB616"
      },
      "source": [
        "## Question 4\n",
        "Construct a Python program that counts and displays the occurrences of each character in a given string.\n",
        "\n",
        "Sample String: 'openai.ai',\n",
        "\n",
        "Expected Result: {'a': 2, 'i': 2, '.': 1, 'o': 1, 'p': 1, 'e': 1, 'n': 1}"
      ]
    },
    {
      "cell_type": "code",
      "execution_count": null,
      "metadata": {
        "id": "MtKskTzbCLaU",
        "colab": {
          "base_uri": "https://localhost:8080/"
        },
        "outputId": "dfcb4849-97a6-4b58-d6b7-bed8b1b87375"
      },
      "outputs": [
        {
          "output_type": "stream",
          "name": "stdout",
          "text": [
            "enter string: all is well\n",
            "{'a': 1, 'l': 4, ' ': 2, 'i': 1, 's': 1, 'w': 1, 'e': 1}\n"
          ]
        }
      ],
      "source": [
        "# write your answer here\n",
        "string = input(\"enter string: \")\n",
        "\n",
        "char_count = {}\n",
        "\n",
        "for char in (string):\n",
        "  if char in char_count:\n",
        "    char_count[char] += 1\n",
        "\n",
        "  else:\n",
        "    char_count[char] = 1\n",
        "\n",
        "print(char_count)"
      ]
    },
    {
      "cell_type": "markdown",
      "metadata": {
        "id": "55W9AMdXCSpV"
      },
      "source": [
        "## Question 5\n",
        "Design a Python code to calculate the sum of all elements in a user-provided list."
      ]
    },
    {
      "cell_type": "code",
      "execution_count": null,
      "metadata": {
        "id": "I57NXsauCec2",
        "colab": {
          "base_uri": "https://localhost:8080/"
        },
        "outputId": "38466249-ef38-4715-99d7-288c05cbdd7a"
      },
      "outputs": [
        {
          "output_type": "stream",
          "name": "stdout",
          "text": [
            "Enter numbers separated by spaces: 1 3 6 9\n",
            "The sum of all elements is: 19.0\n"
          ]
        }
      ],
      "source": [
        "\n",
        "# write your answer here\n",
        "input_list = input(\"Enter numbers separated by spaces: \")\n",
        "\n",
        "# Convert the input string into a list of numbers (floats)\n",
        "numbers = [float(num) for num in input_list.split()]\n",
        "\n",
        "# Calculate the sum of the numbers\n",
        "total_sum = sum(numbers)\n",
        "\n",
        "# Display the result\n",
        "print(\"The sum of all elements is:\", total_sum)\n",
        "\n"
      ]
    },
    {
      "cell_type": "markdown",
      "metadata": {
        "id": "4ulBZ6yhCi9F"
      },
      "source": [
        "## Question 6\n",
        "Write a Python program that modifies a given string by replacing all occurrences of its first character with '$', excluding the first character itself.\n",
        "\n",
        "\n",
        "Sample String : 'restart‘\n",
        "Expected Result : 'resta\\$t'"
      ]
    },
    {
      "cell_type": "code",
      "execution_count": null,
      "metadata": {
        "id": "Fj0XhwbBCw2o",
        "colab": {
          "base_uri": "https://localhost:8080/"
        },
        "outputId": "0c9bcbce-f520-4b0a-cd99-c3855900ed00"
      },
      "outputs": [
        {
          "output_type": "stream",
          "name": "stdout",
          "text": [
            "bo$\n"
          ]
        }
      ],
      "source": [
        "def replace(string):\n",
        "  if not string:\n",
        "    return string\n",
        "\n",
        "  first_char = string[0]\n",
        "\n",
        "  modified_string = first_char + string[1:].replace(first_char, '$')\n",
        "\n",
        "  return modified_string\n",
        "\n",
        "string = \"bob\"\n",
        "result = replace(string)\n",
        "print(result)\n",
        "\n",
        "\n",
        "\n"
      ]
    },
    {
      "cell_type": "markdown",
      "source": [
        "## Question 7\n",
        "Write a Python program using a while loop to compute the factorial of a user-supplied number."
      ],
      "metadata": {
        "id": "qVXA3q7ET5JI"
      }
    },
    {
      "cell_type": "code",
      "source": [
        "from ast import withitem\n",
        "# write your answer here\n",
        "def factorial(n):\n",
        "  if n < 0:\n",
        "    return 0\n",
        "  elif n == 0  or n == 1:\n",
        "    return 1\n",
        "  else:\n",
        "    fact = 1\n",
        "    while(n>1):\n",
        "      fact *= n\n",
        "      n -= 1\n",
        "    return fact\n",
        "\n",
        "num = 7;\n",
        "print(\"factorial of \", num , \"is\", factorial(num))\n",
        "\n",
        "\n",
        "\n"
      ],
      "metadata": {
        "id": "Lbt7R6UkT7BA",
        "colab": {
          "base_uri": "https://localhost:8080/"
        },
        "outputId": "628061f3-5074-4951-9e9b-ed066878810c"
      },
      "execution_count": null,
      "outputs": [
        {
          "output_type": "stream",
          "name": "stdout",
          "text": [
            "factorial of  7 is 5040\n"
          ]
        }
      ]
    },
    {
      "cell_type": "markdown",
      "source": [
        "## Question 8\n",
        "Create a program that accepts a list of numbers as input and outputs a new list containing only the even numbers."
      ],
      "metadata": {
        "id": "6YfbzXMNT--R"
      }
    },
    {
      "cell_type": "code",
      "source": [
        "# write your answer here\n",
        "def filter(numbers):\n",
        "  even_numbers = [num for num in numbers if num % 2 == 0]\n",
        "  return even_numbers\n",
        "\n",
        "elements = input(\"enter numbers:\")\n",
        "elements = list(map(int,elements.split()))\n",
        "\n",
        "output_list = filter(elements)\n",
        "print(output_list)"
      ],
      "metadata": {
        "id": "54q7wMQPUAKu",
        "colab": {
          "base_uri": "https://localhost:8080/"
        },
        "outputId": "47ea0a3c-9798-4127-fb90-f6a4f666bc53"
      },
      "execution_count": null,
      "outputs": [
        {
          "output_type": "stream",
          "name": "stdout",
          "text": [
            "enter numbers:11 22 33 44\n",
            "[22, 44]\n"
          ]
        }
      ]
    },
    {
      "cell_type": "markdown",
      "metadata": {
        "id": "_bIP7s1MCzue"
      },
      "source": [
        "## Question 9\n",
        "Design a Python function to check if a number is prime.\n"
      ]
    },
    {
      "cell_type": "code",
      "execution_count": null,
      "metadata": {
        "id": "w79QilHXD3Mg",
        "colab": {
          "base_uri": "https://localhost:8080/"
        },
        "outputId": "7a085865-d663-406f-c043-ed0b39c60b84"
      },
      "outputs": [
        {
          "output_type": "stream",
          "name": "stdout",
          "text": [
            "31 is a prime number .\n"
          ]
        }
      ],
      "source": [
        "# write your answer here\n",
        "def prime(n):\n",
        "  if n<=1:\n",
        "    return False\n",
        "\n",
        "  for i in range(2,int(n**0.5) + 1):\n",
        "    if n % i == 0:\n",
        "      return False\n",
        "\n",
        "  return True\n",
        "\n",
        "number = 31\n",
        "result = prime(number)\n",
        "if result:\n",
        "  print(f'{number} is a prime number .')\n",
        "else:\n",
        "  print(f'{number} is not a prime number .')\n",
        "\n"
      ]
    },
    {
      "cell_type": "markdown",
      "metadata": {
        "id": "xCa2bK9aD4Q3"
      },
      "source": [
        "## Question 10\n",
        "Write a Python program to concatenate following dictionaries to create a new one.\n",
        "\n",
        "Sample Dictionary : dic1={1:10, 2:20}, dic2={3:30, 4:40}, dic3={5:50,6:60},\n",
        "\n",
        "Expected Result : {1: 10, 2: 20, 3: 30, 4: 40, 5: 50, 6: 60}\n"
      ]
    },
    {
      "cell_type": "code",
      "execution_count": null,
      "metadata": {
        "id": "_z4aLqAbEET1",
        "colab": {
          "base_uri": "https://localhost:8080/"
        },
        "outputId": "a297056d-0551-4812-8931-1d891d8f64ba"
      },
      "outputs": [
        {
          "output_type": "stream",
          "name": "stdout",
          "text": [
            "concatenated {1: 10, 2: 20, 3: 30, 4: 40, 5: 50, 6: 60}\n"
          ]
        }
      ],
      "source": [
        "# write your answer here\n",
        "dic1 = {1:10,2:20}\n",
        "dic2 = {3:30,4:40}\n",
        "dic3 = {5:50,6:60}\n",
        "\n",
        "result_dict = {}\n",
        "result_dict.update(dic1)\n",
        "result_dict.update(dic2)\n",
        "result_dict.update(dic3)\n",
        "\n",
        "print(\"concatenated\", result_dict)"
      ]
    },
    {
      "cell_type": "markdown",
      "source": [
        "## Question 11\n",
        "Design a Python function that takes a tuple of integers as input and returns the largest and smallest elements."
      ],
      "metadata": {
        "id": "bkyZ2xSZUOst"
      }
    },
    {
      "cell_type": "code",
      "source": [
        "# write your answer here\n",
        "def find(numbers):\n",
        "  if not numbers:\n",
        "    return \"the tuple is empty\"\n",
        "\n",
        "  largest = smallest = numbers[0]\n",
        "\n",
        "  for num in numbers:\n",
        "    if num > largest:\n",
        "      largest = num\n",
        "\n",
        "    if num < smallest:\n",
        "      smallest = num\n",
        "\n",
        "  return largest, smallest\n",
        "\n",
        "tuple = (99 , 67 , 105 , 45)\n",
        "largest, smallest = find(tuple)\n",
        "print(f'largest: {largest} , smallest: {smallest} ')"
      ],
      "metadata": {
        "id": "3FdLRBKOUQEd",
        "colab": {
          "base_uri": "https://localhost:8080/"
        },
        "outputId": "5e457f6d-a558-40a7-eb11-3f3e3a49c03f"
      },
      "execution_count": null,
      "outputs": [
        {
          "output_type": "stream",
          "name": "stdout",
          "text": [
            "largest: 105 , smallest: 45 \n"
          ]
        }
      ]
    },
    {
      "cell_type": "markdown",
      "source": [
        "## Question 12\n",
        "Write a Python program that counts the frequency of each character in a given string and stores it in a dictionary."
      ],
      "metadata": {
        "id": "O0TVi3gKUTpp"
      }
    },
    {
      "cell_type": "code",
      "source": [
        "# write your answer here\n",
        "def count(s):\n",
        "  dict = {}\n",
        "\n",
        "  for char in s:\n",
        "    if char in dict:\n",
        "      dict[char] += 1\n",
        "\n",
        "    else:\n",
        "      dict[char] = 1\n",
        "\n",
        "  return dict\n",
        "\n",
        "input = \"hello\"\n",
        "frequency = count(input)\n",
        "print(\"frequencies:\",frequency)\n",
        "\n",
        "\n",
        "\n"
      ],
      "metadata": {
        "id": "lAtfSfZXUU-h",
        "colab": {
          "base_uri": "https://localhost:8080/"
        },
        "outputId": "a6b385d3-4a60-4164-e8a0-f6adc414eab9"
      },
      "execution_count": null,
      "outputs": [
        {
          "output_type": "stream",
          "name": "stdout",
          "text": [
            "frequencies: {'h': 1, 'e': 1, 'l': 2, 'o': 1}\n"
          ]
        }
      ]
    },
    {
      "cell_type": "markdown",
      "metadata": {
        "id": "0v48Vqa7FrQh"
      },
      "source": [
        "## Question 13\n",
        "Implement a Python script to identify duplicate elements in a provided array of integers. Return -1 if there are no duplicates."
      ]
    },
    {
      "cell_type": "code",
      "execution_count": null,
      "metadata": {
        "id": "7WEmgq-DF2P1",
        "colab": {
          "base_uri": "https://localhost:8080/"
        },
        "outputId": "1f276f82-b547-4543-b99e-4a55d06ad16c"
      },
      "outputs": [
        {
          "output_type": "stream",
          "name": "stdout",
          "text": [
            "duplicate elements: [1, 1, 1, 2, 55, 8, 2]\n"
          ]
        }
      ],
      "source": [
        "# write your answer here\n",
        "def find_duplicate(arr):\n",
        "  seen = set()\n",
        "  duplicate = []\n",
        "  for num in arr:\n",
        "    if num in seen:\n",
        "      duplicate.append(num)\n",
        "\n",
        "    else:\n",
        "      seen.add(num)\n",
        "\n",
        "  return duplicate if duplicate else -1\n",
        "\n",
        "\n",
        "input_arr = [1,1,1,1,2,2,55,55,8,8,9,2]\n",
        "duplicate = find_duplicate(input_arr)\n",
        "print(\"duplicate elements:\", duplicate)\n",
        "\n",
        "\n"
      ]
    },
    {
      "cell_type": "markdown",
      "metadata": {
        "id": "vD5PYLMuGga_"
      },
      "source": [
        "## Question 14\n",
        "Write a Python script to find the common elements between two lists."
      ]
    },
    {
      "cell_type": "code",
      "execution_count": null,
      "metadata": {
        "id": "t0D5kdJUGjjw",
        "colab": {
          "base_uri": "https://localhost:8080/"
        },
        "outputId": "35dfd4c8-8739-4962-baca-89da8482b4ac"
      },
      "outputs": [
        {
          "output_type": "stream",
          "name": "stdout",
          "text": [
            "common elements: [25, 21]\n"
          ]
        }
      ],
      "source": [
        "# write your answer here\n",
        "def find_common_element(my_list1, my_list2):\n",
        "  return list(set(my_list1) & set(my_list2))\n",
        "\n",
        "my_list1 = [21,22,23,24,25]\n",
        "my_list2 = [25,21,28,29,30]\n",
        "\n",
        "common = find_common_element(my_list1, my_list2)\n",
        "print(\"common elements:\", common)"
      ]
    },
    {
      "cell_type": "markdown",
      "metadata": {
        "id": "uHkd-y5VhVWC"
      },
      "source": [
        "## Question 15\n",
        "Write a Python program to randomly divide the students in this class into maximum of eight groups for term projects, each group should have at least 4 students but no more than 6 students (including 6).\n",
        "\n",
        "Here is the students list:\n",
        "\n",
        "student_list_spring_2024=[rb0846,\n",
        "ac1964,\n",
        "hc0612,\n",
        "md0912,\n",
        "ad1198,\n",
        "md0894,\n",
        "md0825,\n",
        "vg0598,\n",
        "vg0433,\n",
        "mh1068,\n",
        "yj0173,\n",
        "pk0553,\n",
        "tk0411,\n",
        "srk0204,\n",
        "sk2922,\n",
        "sk2936,\n",
        "mk1302,\n",
        "mk1317,\n",
        "tk0412,\n",
        "vk0656,\n",
        "sm2985,\n",
        "mm2372,\n",
        "un0045,\n",
        "an0892,\n",
        "sn0913,\n",
        "gp0252,\n",
        "ap1484,\n",
        "mr1765,\n",
        "sr1385,\n",
        "sr1335,\n",
        "hs0665,\n",
        "ms2060,\n",
        "gt0217,\n",
        "nt0385,\n",
        "tv0186,\n",
        "sv1394,\n",
        "sv1752,\n",
        "sv1555,\n",
        "sy0594\n",
        "]\n"
      ]
    },
    {
      "cell_type": "code",
      "execution_count": null,
      "metadata": {
        "id": "3iGbmcOBhTwy",
        "colab": {
          "base_uri": "https://localhost:8080/"
        },
        "outputId": "f43736eb-8cfd-4f98-8624-666b887c0443"
      },
      "outputs": [
        {
          "output_type": "stream",
          "name": "stdout",
          "text": [
            "group1: ['mk1317', 'nt0385', 'sm2985', 'ac1964', 'mm2372']\n",
            "group2: ['pk0553', 'sr1335', 'sv1752', 'sk2936', 'hs0665']\n",
            "group3: ['gt0217', 'mr1765', 'gp0252', 'mh1068', 'sv1555']\n",
            "group4: ['tv0186', 'md0825', 'md0912', 'tk0412', 'yj0173']\n",
            "group5: ['tk0411', 'sk2922', 'ap1484', 'srk0204']\n",
            "group6: ['sy0594', 'an0892', 'vg0433', 'sv1394']\n",
            "group7: ['sn0913', 'rb0846', 'mk1302', 'md0894']\n",
            "group8: ['vk0656', 'ms2060', 'un0045', 'sr1385']\n",
            "group9: ['hc0612', 'ad1198', 'vg0598']\n"
          ]
        }
      ],
      "source": [
        "# write your answer here\n",
        "import random\n",
        "\n",
        "def divide_students(student_list):\n",
        "  random.shuffle(student_list)\n",
        "\n",
        "  groups = []\n",
        "  min_group_size = 4\n",
        "  max_group_size = 6\n",
        "  max_groups = 8\n",
        "\n",
        "  while student_list:\n",
        "    students_left = len(student_list)\n",
        "    groups_left = max_groups - len(groups)\n",
        "\n",
        "    max_size_for_current_group = min(max_group_size, students_left - min_group_size* (groups_left - 1))\n",
        "\n",
        "    group_size = random.randint(min_group_size, max_size_for_current_group)\n",
        "\n",
        "    group = student_list[:group_size]\n",
        "    groups.append(group)\n",
        "    student_list = student_list[group_size:]\n",
        "\n",
        "  return groups\n",
        "\n",
        "student_list_spring_2024 = [\"rb0846\", \"ac1964\", \"hc0612\", \"md0912\", \"ad1198\", \"md0894\", \"md0825\", \"vg0598\", \"vg0433\", \"mh1068\", \"yj0173\", \"pk0553\", \"tk0411\", \"srk0204\", \"sk2922\", \"sk2936\", \"mk1302\", \"mk1317\", \"tk0412\", \"vk0656\", \"sm2985\", \"mm2372\", \"un0045\", \"an0892\", \"sn0913\", \"gp0252\", \"ap1484\", \"mr1765\", \"sr1385\", \"sr1335\", \"hs0665\", \"ms2060\", \"gt0217\", \"nt0385\", \"tv0186\", \"sv1394\", \"sv1752\", \"sv1555\", \"sy0594\"\n",
        "\n",
        "]\n",
        "\n",
        "groups = divide_students(student_list_spring_2024)\n",
        "\n",
        "\n",
        "for i,group in enumerate(groups, 1):\n",
        "  print(f\"group{i}: {group}\")\n",
        "\n",
        "\n",
        "\n",
        "\n"
      ]
    },
    {
      "cell_type": "markdown",
      "metadata": {
        "id": "fmZ9vX20Qs3d"
      },
      "source": [
        "## Question 16\n",
        "Create a program that takes a positive integer 'n' as input and prints the count of even numbers from 1 to 'n'. Optimize the loop using the continue statement."
      ]
    },
    {
      "cell_type": "code",
      "execution_count": 4,
      "metadata": {
        "id": "W8Jw6sWMQs3d",
        "colab": {
          "base_uri": "https://localhost:8080/"
        },
        "outputId": "5ebbb9a1-8048-406b-f1ad-e518c7bd00cc"
      },
      "outputs": [
        {
          "output_type": "stream",
          "name": "stdout",
          "text": [
            "enter numbers 2000\n",
            "even numbers are:  1000\n"
          ]
        }
      ],
      "source": [
        "# write your answer here\n",
        "def count_even_numbers(n):\n",
        "  count = 0\n",
        "  for i in range(1, n + 1):\n",
        "    if i % 2 != 0:\n",
        "      continue\n",
        "    count += 1\n",
        "  return count\n",
        "\n",
        "n = int(input(\"enter numbers \" ))\n",
        "even = count_even_numbers(n)\n",
        "print(\"even numbers are: \", even )\n",
        "\n",
        "\n",
        "\n",
        "\n"
      ]
    },
    {
      "cell_type": "markdown",
      "metadata": {
        "id": "hvq4APMhQs3d"
      },
      "source": [
        "## Question 17\n",
        "Develop a Python function called 'count_vowels' that takes a string as input and returns the count of vowels (both lowercase and uppercase) present in the string, ignoring spaces and non-alphabetic characters."
      ]
    },
    {
      "cell_type": "code",
      "execution_count": null,
      "metadata": {
        "id": "ZnoxhSglQs3d",
        "colab": {
          "base_uri": "https://localhost:8080/"
        },
        "outputId": "d58c3034-ec35-40c6-9d5b-8cb89cb142d8"
      },
      "outputs": [
        {
          "output_type": "stream",
          "name": "stdout",
          "text": [
            "number of vowels in the string: 3\n"
          ]
        }
      ],
      "source": [
        "# write your answer here\n",
        "def count_vowels(s):\n",
        "  vowels = \"aeiouAEIOU\"\n",
        "  count = 0\n",
        "\n",
        "  for char in s:\n",
        "    if char in vowels:\n",
        "      count += 1\n",
        "\n",
        "  return count\n",
        "\n",
        "input_string = \"hello, world\"\n",
        "vowel_count = count_vowels(input_string)\n",
        "print(f\"number of vowels in the string: {vowel_count}\")"
      ]
    },
    {
      "cell_type": "markdown",
      "source": [
        "## Question 18\n",
        "Create a custom exception named ValueTooSmallError in Python. Write a program that takes user input for an age, and if the entered age is less than 18, raise the ValueTooSmallError with an appropriate error message."
      ],
      "metadata": {
        "id": "55FWoSJPVVM6"
      }
    },
    {
      "cell_type": "code",
      "source": [
        "# write your answer here\n",
        "class ValueTooSmallError(Exception):\n",
        "  def __init__(self,message=\"the entered age is too small. you must be atleast 18 years old. \"):\n",
        "    self.message = message\n",
        "    super().__init__(self.message)\n",
        "\n",
        "def check_age(age):\n",
        "  if age < 18:\n",
        "    raise ValueTooSmallError()\n",
        "\n",
        "def main ():\n",
        "  try:\n",
        "    age =int(input(\"enter your age: \"))\n",
        "\n",
        "    check_age(age)\n",
        "\n",
        "    print(\"age is valid. you are 18 or older.\")\n",
        "  except ValueTooSmallError as e:\n",
        "    print(e)\n",
        "  except valueError:\n",
        "    print(\"Invalid input. please enter a valid integar for age.\")\n",
        "\n",
        "if __name__ == \"__main__\":\n",
        "  main()\n",
        "\n"
      ],
      "metadata": {
        "id": "hwtr1wZmVX5A",
        "colab": {
          "base_uri": "https://localhost:8080/"
        },
        "outputId": "b02171e2-d318-4dcd-bde7-3449665ad4c2"
      },
      "execution_count": 3,
      "outputs": [
        {
          "output_type": "stream",
          "name": "stdout",
          "text": [
            "enter your age: 17\n",
            "the entered age is too small. you must be atleast 18 years old. \n"
          ]
        }
      ]
    },
    {
      "cell_type": "markdown",
      "source": [
        "## Question 19\n",
        "Develop a script that reverses a given string without using built-in reverse functions."
      ],
      "metadata": {
        "id": "Q9ecagcaVazW"
      }
    },
    {
      "cell_type": "code",
      "source": [
        "# write your answer here\n",
        "\n",
        "def reverse_string(s):\n",
        "  reversed_str = \"\"\n",
        "\n",
        "  for char in s:\n",
        "    reversed_str = char + reversed_str\n",
        "\n",
        "  return reversed_str\n",
        "\n",
        "\n",
        "string = input(\"enter a string to reverse: \")\n",
        "\n",
        "reversed_string = reverse_string(string)\n",
        "\n",
        "print(\"reversed string:\", reversed_string)"
      ],
      "metadata": {
        "id": "gycgckoAVZjR",
        "colab": {
          "base_uri": "https://localhost:8080/"
        },
        "outputId": "cb719d8e-7bf4-48ae-b3e1-b0eaf7f268d6"
      },
      "execution_count": 2,
      "outputs": [
        {
          "output_type": "stream",
          "name": "stdout",
          "text": [
            "enter a string to reverse: hello\n",
            "reversed string: olleh\n"
          ]
        }
      ]
    },
    {
      "cell_type": "markdown",
      "source": [
        "## Question 20\n",
        "Implement a Python script to generate a random password of a specified length."
      ],
      "metadata": {
        "id": "ZFG6RibifMLu"
      }
    },
    {
      "cell_type": "code",
      "source": [
        "# write your answer here\n",
        "import random\n",
        "import string\n",
        "\n",
        "def generate_password(length):\n",
        "  characters = string.ascii_letters + string.digits + string.punctuation\n",
        "  password = ''\n",
        "\n",
        "  for _ in range(length):\n",
        "    password += random.choice(characters)\n",
        "\n",
        "  return password\n",
        "\n",
        "try:\n",
        "  length = int(input(\"length of password \"))\n",
        "  if length > 0:\n",
        "    print(\"your random password is: \", generate_password(length))\n",
        "  else:\n",
        "    print(\"please enter a positive number\")\n",
        "\n",
        "except ValueError:\n",
        "  print(\"Invalid input . please enter valid one\")"
      ],
      "metadata": {
        "id": "BFVrkEi9fNiD",
        "colab": {
          "base_uri": "https://localhost:8080/"
        },
        "outputId": "25a28457-ce88-43fa-a299-e40f43b3e333"
      },
      "execution_count": 1,
      "outputs": [
        {
          "output_type": "stream",
          "name": "stdout",
          "text": [
            "length of password 12\n",
            "your random password is:  2&f#Go.,\\4>'\n"
          ]
        }
      ]
    },
    {
      "cell_type": "markdown",
      "source": [
        "# Try these questions"
      ],
      "metadata": {
        "id": "6SmvS7nSfbj8"
      }
    },
    {
      "cell_type": "markdown",
      "source": [
        "(21) Define a base class called 'Vehicle' with attributes make and model. Create a derived class Car that inherits from Vehicle and has an additional attribute 'num_doors'. Demonstrate an example of creating an instance of the 'Car' class and accessing its attributes."
      ],
      "metadata": {
        "id": "cboAr5pEWUf5"
      }
    },
    {
      "cell_type": "code",
      "source": [
        "# write your answer here\n"
      ],
      "metadata": {
        "id": "phs9gciMWWAW"
      },
      "execution_count": null,
      "outputs": []
    },
    {
      "cell_type": "markdown",
      "source": [
        "(22) Create a class called 'Shape' with a method calculate_area(). Implement two derived classes 'Circle' and 'Rectangle' that inherit from Shape and override the calculate_area() method. Demonstrate polymorphism by creating instances of both derived classes and calling the calculate_area() method."
      ],
      "metadata": {
        "id": "J8HHefNtePwd"
      }
    },
    {
      "cell_type": "code",
      "source": [
        "# write your answer here"
      ],
      "metadata": {
        "id": "btnMmUZDeRhS"
      },
      "execution_count": null,
      "outputs": []
    },
    {
      "cell_type": "markdown",
      "source": [
        "(23) Write a Python program that prompts the user to enter two numbers and perform a division operation. Handle exceptions for both zero division and invalid input (non-numeric input). Display appropriate error messages for each type of exception and ensure the program does not crash due to these errors."
      ],
      "metadata": {
        "id": "z0oqEAlTeMUS"
      }
    },
    {
      "cell_type": "code",
      "source": [
        "# write your answer here"
      ],
      "metadata": {
        "id": "yjdc1zM1eMAs"
      },
      "execution_count": null,
      "outputs": []
    },
    {
      "cell_type": "markdown",
      "source": [
        "# Mandatory Question"
      ],
      "metadata": {
        "id": "sZOhks1dXWEe"
      }
    },
    {
      "cell_type": "markdown",
      "source": [
        "**Important:**\n",
        "Reflecting on the first three lectures and the exercises you've completed, please provide feedback on your learning experience. Share your thoughts on whether the material covered was clear, the exercises were helpful, and if you feel more confident in applying Python programming concepts. Additionally, mention any specific areas where you would like more clarification or topics you would like to explore further in future lectures. Your feedback is valuable in shaping the course for an effective learning journey."
      ],
      "metadata": {
        "id": "eqmHVEwaWhbV"
      }
    },
    {
      "cell_type": "code",
      "source": [
        "'''\n",
        "Write your response here.\n",
        "'''"
      ],
      "metadata": {
        "id": "akAVJn9YBTQT"
      },
      "execution_count": null,
      "outputs": []
    }
  ],
  "metadata": {
    "colab": {
      "provenance": [],
      "include_colab_link": true
    },
    "kernelspec": {
      "display_name": "Python 3 (ipykernel)",
      "language": "python",
      "name": "python3"
    },
    "language_info": {
      "codemirror_mode": {
        "name": "ipython",
        "version": 3
      },
      "file_extension": ".py",
      "mimetype": "text/x-python",
      "name": "python",
      "nbconvert_exporter": "python",
      "pygments_lexer": "ipython3",
      "version": "3.9.12"
    }
  },
  "nbformat": 4,
  "nbformat_minor": 0
}