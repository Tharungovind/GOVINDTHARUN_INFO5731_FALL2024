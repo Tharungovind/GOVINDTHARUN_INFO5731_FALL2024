{
  "cells": [
    {
      "cell_type": "markdown",
      "metadata": {
        "id": "view-in-github",
        "colab_type": "text"
      },
      "source": [
        "<a href=\"https://colab.research.google.com/github/Tharungovind/GOVINDTHARUN_INFO5731_FALL2024/blob/main/Govind_Tharun_Assignment_02.ipynb\" target=\"_parent\"><img src=\"https://colab.research.google.com/assets/colab-badge.svg\" alt=\"Open In Colab\"/></a>"
      ]
    },
    {
      "cell_type": "markdown",
      "metadata": {
        "id": "Ryk8D1Q4Wsrp"
      },
      "source": [
        "# **INFO5731 Assignment One**"
      ]
    },
    {
      "cell_type": "markdown",
      "source": [
        "This assignment includes range of programming tasks and data analysis exercises, aiming to enhance your Python skills and proficiency in string manipulation, numerical computations, and data science. Follow the instructions carefully and design well-structured Python programs to address each question.\n",
        "\n",
        "Late Submission will have a penalty of 10% reduction for each day after the deadline."
      ],
      "metadata": {
        "id": "qcP6re2g5A5r"
      }
    },
    {
      "cell_type": "markdown",
      "metadata": {
        "id": "JkzR8cFAyGik"
      },
      "source": [
        "# Question 1 (10 points).\n",
        "\n",
        "The formula that describes the volume V of a hemisphere with radius r is the following:\n",
        "\n",
        "$ V=\\frac{2}{3}\\ast\\ \\pi\\ast\\ r^3 $\n",
        "\n",
        "Write a program to calculate the value of V when r is in the range of even numbers from 1-20. Output the result in the following format:\n",
        "\n",
        "\tr\tV\n",
        "\t2\t…\n",
        "\t4\t…\n",
        "\t6\t…\n",
        "\t.\n",
        "\t.\n",
        "\t.\n",
        "\t20\t…\n"
      ]
    },
    {
      "cell_type": "code",
      "execution_count": 1,
      "metadata": {
        "id": "jDyTKYs-yGit",
        "colab": {
          "base_uri": "https://localhost:8080/",
          "height": 0
        },
        "outputId": "83f69446-ef60-483d-fec4-c9450e403688"
      },
      "outputs": [
        {
          "output_type": "stream",
          "name": "stdout",
          "text": [
            "r \tV\n",
            "2 \t 16.755160819145562\n",
            "4 \t 134.0412865531645\n",
            "6 \t 452.38934211693015\n",
            "8 \t 1072.330292425316\n",
            "10 \t 2094.3951023931954\n",
            "12 \t 3619.114736935441\n",
            "14 \t 5747.0201609669275\n",
            "16 \t 8578.642339402528\n",
            "18 \t 12214.512237157114\n",
            "20 \t 16755.160819145563\n"
          ]
        }
      ],
      "source": [
        "# Your code here\n",
        "import math\n",
        "\n",
        "def volume(r):\n",
        "  return (2/3)*math.pi*(r**3)\n",
        "\n",
        "print(\"r \\tV\")\n",
        "for i in range(1,21):\n",
        "  if i%2 == 0:\n",
        "    print(i,\"\\t\",volume(i))\n",
        "\n",
        "\n"
      ]
    },
    {
      "cell_type": "markdown",
      "metadata": {
        "id": "90_NR8c5XGWc"
      },
      "source": [
        "# Question 2 (20 points)\n",
        "\n",
        "(a) Write a Python program to generate a sequence of 12 random numbers falling within the range of 50 to 150.\n",
        "\n",
        "(b) Arrange the generated numbers in ascending order. Display the sorted list.\n",
        "\n",
        "(c) Extend the program to arrange the numbers in descending order as well. Present the sorted list accordingly.\n",
        "\n",
        "(d) Compute and output the average of the entire group of generated numbers.\n",
        "\n",
        "(e) Enhance the program to calculate and display the average of the first 6 numbers from both the ascending and descending sorted lists."
      ]
    },
    {
      "cell_type": "code",
      "execution_count": 16,
      "metadata": {
        "id": "5QX6bJjGWXY9",
        "colab": {
          "base_uri": "https://localhost:8080/"
        },
        "outputId": "5a989bbd-643a-4d68-bc59-5f285e60425d"
      },
      "outputs": [
        {
          "output_type": "stream",
          "name": "stdout",
          "text": [
            "Numbers are: [96, 138, 145, 91, 79, 95, 69, 123, 141, 150, 68, 148]\n",
            "Numbers in ascending order are: [68, 69, 79, 91, 95, 96, 123, 138, 141, 145, 148, 150]\n",
            "Numbers in descending order are: [150, 148, 145, 141, 138, 123, 96, 95, 91, 79, 69, 68]\n",
            "Average of the numbers are: 111.92\n",
            "Average of First 6 ascending numbers are: 83.0\n",
            "Average of First 6 descending numbers are: 140.83\n"
          ]
        }
      ],
      "source": [
        "# Write code for each of the sub parts with proper comments.\n",
        "import random\n",
        "\n",
        "#a) Python program to generate a sequence of 12 random numbers falling within range of 50 to 150\n",
        "\n",
        "random_list = [random.randint(50,150) for i in range (12)]\n",
        "print(\"Numbers are:\", random_list)\n",
        "\n",
        "#b) Arrange the generated numbers in ascending order . display the sorted list\n",
        "\n",
        "ascending = sorted(random_list)\n",
        "print(\"Numbers in ascending order are:\",ascending)\n",
        "\n",
        "#c) Program to arrange in descending order in sorted list\n",
        "\n",
        "descending = sorted(random_list,reverse=True)\n",
        "print(\"Numbers in descending order are:\", descending)\n",
        "\n",
        "#d) Average of entire group of generated numbers\n",
        "\n",
        "print(\"Average of the numbers are:\", round(sum(random_list)/len(random_list),2))\n",
        "\n",
        "#e) program to calculate average of the first 6 numbers from both the ascending and descending sorted list\n",
        "\n",
        "ascending_avg = round(sum(ascending[:6])/len(ascending[:6]),2)\n",
        "descending_avg = round(sum(descending[:6])/len(descending[:6]),2)\n",
        "print(\"Average of First 6 ascending numbers are:\", ascending_avg)\n",
        "print(\"Average of First 6 descending numbers are:\", descending_avg)\n",
        "\n",
        "\n",
        "\n"
      ]
    },
    {
      "cell_type": "markdown",
      "metadata": {
        "id": "1F_PZdH9Sh49"
      },
      "source": [
        "# Question 3 (20 points).\n",
        "\n",
        "Create a Python program that encompasses various string manipulation task:\n",
        "\n",
        "(a) Prompt the user to input two sentences.\n",
        "\n",
        "(b) Transform each sentence into a list, where each element corresponds to a word in the sentence. For example, if the sentences are \"Hello, how are you doing today?\" and \"This is an example sentence for the program!\"\n",
        "\n",
        "The program should output:\n",
        "['Hello', ',', 'how', 'are', 'you', 'doing', 'today', '?', 'This', 'is', 'an', 'example', 'sentence', 'for', 'the', 'program', '!']\n",
        "\n",
        "(c) Compare the two sentences. Print out a list of words that occur in both sentences.\n",
        "\n",
        "(d) Remove any punctuation from the sentence and print the sanitized sentences. It should remove at least the following characters, but it can remove more: period(“.”), comma (“,”), semicolon (“;”), and colon (“:”).\n",
        "\n",
        "(e) Count the number of vowels in each of the sentences. Print out each vowel and the occurrences  in the each of the two sentences separately, such as:\n",
        "\n",
        "Sentence1: a:2, e:2, i:0, etc.\n",
        "Sentence2: a:1, e:2, i:2, etc.\n",
        "\n",
        "Design a well-structured Python program to execute these tasks efficiently."
      ]
    },
    {
      "cell_type": "code",
      "execution_count": 10,
      "metadata": {
        "id": "Y0oOSlsOS0cq",
        "colab": {
          "base_uri": "https://localhost:8080/"
        },
        "outputId": "0712bce6-71e0-403c-a0d1-d2da57574ef2"
      },
      "outputs": [
        {
          "output_type": "stream",
          "name": "stdout",
          "text": [
            "Enter sentence 1:hello ! john\n",
            "Enter sentence 2:hello , how are you?\n",
            "['hello', '!', 'john', 'hello', ',', 'how', 'are', 'you?']\n",
            "['hello']\n",
            "Sanitized sentence 1: hello  john\n",
            "Sanitized sentence 2: hello  how are you\n",
            "1 : a: 0,e: 1,i: 0,o: 2,u: 0\n",
            "2 : a: 1,e: 2,i: 0,o: 3,u: 1\n"
          ]
        }
      ],
      "source": [
        "# Your code here\n",
        "import string\n",
        "\n",
        "#a) Prompt the user to input two sentences\n",
        "\n",
        "sentence1 = input(\"Enter sentence 1:\")\n",
        "sentence2 = input(\"Enter sentence 2:\")\n",
        "\n",
        "#b) Transform each sentence into a list\n",
        "\n",
        "words1 = list(sentence1.split())\n",
        "words2 = list(sentence2.split())\n",
        "\n",
        "combined = words1 + words2\n",
        "print(combined)\n",
        "\n",
        "#c) Common words\n",
        "\n",
        "common_words = []\n",
        "for word in words1:\n",
        "  if word in words2 and word not in common_words:\n",
        "    common_words.append(word)\n",
        "\n",
        "print(common_words)\n",
        "\n",
        "#4) Remove puntuaction from sentences\n",
        "\n",
        "def remove_punctuation(sentence):\n",
        "  for i in string.punctuation:\n",
        "    sentence = sentence.replace(i,\"\")\n",
        "  return sentence\n",
        "\n",
        "sanitized1 = remove_punctuation(sentence1)\n",
        "sanitized2 = remove_punctuation(sentence2)\n",
        "\n",
        "print(\"Sanitized sentence 1:\", sanitized1)\n",
        "print(\"Sanitized sentence 2:\", sanitized2)\n",
        "\n",
        "#5) vowels count\n",
        "\n",
        "def vowel_count(sentence):\n",
        "  vowels = \"aeiou\"\n",
        "  counts = {}\n",
        "  for vowel in vowels:\n",
        "    counts[vowel] = sentence.lower().count(vowel)\n",
        "  return counts\n",
        "\n",
        "count1 = vowel_count(sanitized1)\n",
        "count2 = vowel_count(sanitized2)\n",
        "\n",
        "print(\"1 :\", ','.join([f\"{v}: {count1[v]}\" for v in count1]))\n",
        "print(\"2 :\", ','.join([f\"{v}: {count2[v]}\" for v in count2]))\n",
        "\n",
        "\n",
        "\n",
        "\n"
      ]
    },
    {
      "cell_type": "markdown",
      "source": [
        "# Question 4 (20 Points)"
      ],
      "metadata": {
        "id": "OP4-5qxAtInv"
      }
    },
    {
      "cell_type": "markdown",
      "source": [
        "Design and implement a simple command-line calculator program. The program should handle both integers and floating-point numbers.\n",
        "\n",
        "(a) Write program that takes a mathematical expression as input and evaluates it. The program should support addition, subtraction, multiplication, and division.\n",
        "\n",
        "(b) Extend the calculator to handle parentheses in mathematical expressions. Implement the necessary logic to evaluate expressions with nested parentheses.\n",
        "\n",
        "(c) Enhance your calculator to include additional mathematical operations such as exponentiation, square root, and modulus.\n",
        "\n",
        "(d) Implement error handling in the calculator program. Handle cases such as division by zero and invalid input expressions. Provide meaningful error messages.\n",
        "\n",
        "(e) Implement a command to exit the calculator."
      ],
      "metadata": {
        "id": "uzN4_hDptK9U"
      }
    },
    {
      "cell_type": "code",
      "source": [
        "# Your code here\n",
        "import math\n",
        "\n",
        "def evaluate_expression(expression):\n",
        "  try :\n",
        "    result = eval(expression,{\"__builtins__\":None},{\n",
        "        \"sqrt\":math.sqrt,\n",
        "        \"pow\":math.pow,\n",
        "        \"abs\":abs\n",
        "    })\n",
        "    return result\n",
        "  except ZeroDivisionError:\n",
        "\n",
        "    return \"Error:Division by zero is not allowed.\"\n",
        "\n",
        "  except (SyntaxError , NameError):\n",
        "    return \"Error: Invalid input expression\"\n",
        "\n",
        "  except Exception as e:\n",
        "    return f\"Error: {e}\"\n",
        "\n",
        "def calculator():\n",
        "  print(\"Welcome to the command-line calculator! \")\n",
        "  print(\"Available operaters: +,-,*, /, **(exponentiation),sqrt(x),%,and parantheses()\")\n",
        "  print(\"Type 'exit' to close the calculator.\")\n",
        "\n",
        "  while True:\n",
        "    user_input = input(\"Enter a expression:\")\n",
        "\n",
        "    if user_input.lower() == \"exit\":\n",
        "      print(\"Exiting the calculator. Goodbye! \")\n",
        "      break\n",
        "\n",
        "    result = evaluate_expression(user_input)\n",
        "    print(\"Result:\", result)\n",
        "\n",
        "calculator()\n",
        "\n"
      ],
      "metadata": {
        "id": "8nQnVxjJuYtu",
        "colab": {
          "base_uri": "https://localhost:8080/"
        },
        "outputId": "0274bcec-991f-4cad-8cbe-718728867457"
      },
      "execution_count": 66,
      "outputs": [
        {
          "output_type": "stream",
          "name": "stdout",
          "text": [
            "Welcome to the command-line calculator! \n",
            "Available operaters: +,-,*, /, **(exponentiation),sqrt(x),%,and parantheses()\n",
            "Type 'exit' to close the calculator.\n",
            "Enter a expression:sqrt(1600)\n",
            "Result: 40.0\n",
            "Enter a expression:123456/3\n",
            "Result: 41152.0\n",
            "Enter a expression:sqrt(11)\n",
            "Result: 3.3166247903554\n",
            "Enter a expression:exit\n",
            "Exiting the calculator. Goodbye! \n"
          ]
        }
      ]
    },
    {
      "cell_type": "markdown",
      "metadata": {
        "id": "z3tBE7E-Xn5X"
      },
      "source": [
        "# Question 5 (30 points).\n",
        "\n",
        "In the field of Data Science, data is often formatted as a comma-delimited (CSV) file, where each line in a file corresponds to a field's value. Refer to Chapter 9 (p. 106) for more information on comma-delimited files.\n",
        "\n",
        "To answer this question, you will need to download the file [Assignment1_denton_housing.csv](https://raw.githubusercontent.com/unt-iialab/info5731-spring2022/main/assignments/Assignment1_denton_housing.csv) included with this assignment. The file contains statistics about housing in the city of Denton from 2008 to 2014. Write a program to implement the following questions.\n",
        "\n",
        "(a) (5 pts) Calculate the difference in the number of Occupied Housing Units from year to year and print it. The difference must be calculated for the consecutive years such as 2008-2009, 2009-2010 etc. Finally, print the values in the ascending order.\n",
        "\n",
        "(b) (5 pts) For all the years, calculate the percentage of housing units which are vacant an occupied. Print the results in the following format:\n",
        "\n",
        "Year Vacant Housing Units Occupied Housing Units\n",
        "\n",
        "    2008  30%   70%                          \n",
        "\t2009 ----- -----\n",
        "\t2010 ----- -----\n",
        "    2011 ----- -----\n",
        "\t2012 ----- -----\n",
        "    2013 ----- -----\n",
        "\t2014 ----- -----\n",
        "  \n",
        "  \n",
        "\n",
        "(c) (10 pts) Calculate and print the valued and years in which the highest number of housing units were vacant and occupied. Print the results in the following format:  \n",
        "\n",
        "                              Year\tValue\n",
        "\tVacant Housing Units\t  -----   -----\n",
        "\tOccupied Housing Units\t-----   -----\n",
        "\n",
        "(d) (10 pts) Calculate the harmonic mean of the total housing units and print it out. You can find the information about harmonic mean here: https://ncalculators.com/statistics/harmonic-mean-calculator.htm"
      ]
    },
    {
      "cell_type": "code",
      "execution_count": 65,
      "metadata": {
        "id": "lqGYuHBhcsRH",
        "colab": {
          "base_uri": "https://localhost:8080/"
        },
        "outputId": "0ba6f599-a50f-4d4b-9a0b-64f89a3b2c01"
      },
      "outputs": [
        {
          "output_type": "stream",
          "name": "stdout",
          "text": [
            "Differences in occupied housing units (sorted):\n",
            "2008-2009---- -795.0\n",
            "2009-2010---- -303.0\n",
            "2010-2011---- 1404.0\n",
            "2011-2012---- 1565.0\n",
            "2012-2013---- 2622.0\n",
            "2013-2014---- 5091.0\n",
            "percentage of housing units which are vacant and occupied per year:\n",
            "year\tVacant Housing Units \tOccupied Housing Units \n",
            "2008\t10.88%          \t89.12%\n",
            "2009\t9.07%          \t90.93%\n",
            "2010\t8.14%          \t91.86%\n",
            "2011\t9.38%          \t90.62%\n",
            "2012\t6.68%          \t93.32%\n",
            "2013\t8.8%          \t91.2%\n",
            "2014\t5.73%          \t94.27%\n",
            "Year with maximum vacant and maximum occupied units\n",
            "Vacant housing units : 2008 4483\n",
            "Occupied housing units : 2014 46295\n",
            "Harmonic mean of total Housing units: 44398.29\n"
          ]
        }
      ],
      "source": [
        " # Your code here\n",
        "import pandas as pd\n",
        "from scipy.stats import hmean\n",
        "\n",
        "file_path = \"/content/Assignment1_denton_housing (1).csv\"\n",
        "df = pd.read_csv(file_path)\n",
        "\n",
        "\n",
        "#a) Difference in number of the occupied housing units\n",
        "df_pivot = df.pivot(index='year', columns = 'title_field' , values = 'value')\n",
        "\n",
        "occupied_units = df_pivot['Occupied Housing Units']\n",
        "\n",
        "differences = occupied_units.diff().dropna().sort_values()\n",
        "\n",
        "print(\"Differences in occupied housing units (sorted):\")\n",
        "for i in range(1,len(occupied_units)):\n",
        "  year1 = occupied_units.index[i-1]\n",
        "  year2 = occupied_units.index[i]\n",
        "  diff = differences.iloc[i-1]\n",
        "  print(f\"{year1}-{year2}---- {diff}\")\n",
        "\n",
        "#b) Percentage of housings which are vacant and occupied\n",
        "total_units = df_pivot['Total Housing Units']\n",
        "vacant_units = df_pivot['Vacant Housing Units']\n",
        "occupied_units = df_pivot['Occupied Housing Units']\n",
        "\n",
        "vacant_percentage = (vacant_units/total_units * 100).round(2)\n",
        "occupied_percentage = (occupied_units/total_units * 100).round(2)\n",
        "print(\"percentage of housing units which are vacant and occupied per year:\")\n",
        "print(\"year\\tVacant Housing Units \\tOccupied Housing Units \")\n",
        "for year in total_units.index:\n",
        "  print(f\"{year}\\t{vacant_percentage[year]}%          \\t{occupied_percentage[year]}%\")\n",
        "\n",
        "#c) Highesh occupied and vacant units year with value\n",
        "\n",
        "max_vacant_year = vacant_units.idxmax()\n",
        "max_vacant_value = vacant_units.max()\n",
        "\n",
        "max_occupied_year = occupied_units.idxmax()\n",
        "max_occupied_value = occupied_units.max()\n",
        "\n",
        "\n",
        "print(\"Year with maximum vacant and maximum occupied units\")\n",
        "print(\"Vacant housing units :\", max_vacant_year , max_vacant_value)\n",
        "print(\"Occupied housing units :\", max_occupied_year ,  max_occupied_value)\n",
        "\n",
        "#d) Harmonic mean of total housing units\n",
        "harmonic_mean = hmean(total_units)\n",
        "print(\"Harmonic mean of total Housing units:\", round(harmonic_mean,2))\n",
        "\n",
        "\n",
        "\n",
        "\n",
        "\n",
        "\n",
        "\n",
        "\n"
      ]
    },
    {
      "cell_type": "markdown",
      "source": [
        "# Mandatory Question\n",
        "\n",
        "Provide your thoughts on the assignment. What did you find challenging, and what aspects did you enjoy? Your opinion on the provided time to complete the assignment. Share any suggestions for improvement. Your feedback will be valuable for enhancing the learning experience."
      ],
      "metadata": {
        "id": "q8BFCvWp32cf"
      }
    },
    {
      "cell_type": "code",
      "source": [
        "# Write your response below\n",
        "I enjoyed executing the code and getting the answers and im really improving my coding skills , moreover i believe sufficient time provided for completion of assignment"
      ],
      "metadata": {
        "id": "_e557s2w4BpK",
        "colab": {
          "base_uri": "https://localhost:8080/",
          "height": 124
        },
        "collapsed": true,
        "outputId": "c8c4eabe-fe59-48b2-c8e6-98bbaecc1f90"
      },
      "execution_count": 68,
      "outputs": [
        {
          "output_type": "error",
          "ename": "SyntaxError",
          "evalue": "invalid syntax (<ipython-input-68-f94508dc89f5>, line 2)",
          "traceback": [
            "\u001b[0;36m  File \u001b[0;32m\"<ipython-input-68-f94508dc89f5>\"\u001b[0;36m, line \u001b[0;32m2\u001b[0m\n\u001b[0;31m    I enjoyed executing the code and getting the answers and im really improving my coding skills , moreover i believe sufficient time provided for completion of assignment\u001b[0m\n\u001b[0m      ^\u001b[0m\n\u001b[0;31mSyntaxError\u001b[0m\u001b[0;31m:\u001b[0m invalid syntax\n"
          ]
        }
      ]
    }
  ],
  "metadata": {
    "colab": {
      "provenance": [],
      "toc_visible": true,
      "include_colab_link": true
    },
    "kernelspec": {
      "display_name": "Python 3 (ipykernel)",
      "language": "python",
      "name": "python3"
    },
    "language_info": {
      "codemirror_mode": {
        "name": "ipython",
        "version": 3
      },
      "file_extension": ".py",
      "mimetype": "text/x-python",
      "name": "python",
      "nbconvert_exporter": "python",
      "pygments_lexer": "ipython3",
      "version": "3.9.12"
    }
  },
  "nbformat": 4,
  "nbformat_minor": 0
}